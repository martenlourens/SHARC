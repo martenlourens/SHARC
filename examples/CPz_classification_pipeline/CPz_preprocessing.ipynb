{
 "cells": [
  {
   "cell_type": "code",
   "execution_count": 1,
   "metadata": {},
   "outputs": [],
   "source": [
    "import os\n",
    "os.chdir(\"/Users/users/lourens/RDMP/master_research/code/SGQ_classification/\")"
   ]
  },
  {
   "attachments": {},
   "cell_type": "markdown",
   "metadata": {},
   "source": [
    "# Preprocessing for the CPz catalog\n",
    "This notebook imports the data from the CPz catalog by Logan+ 2020 from the paper \"Unsupervised star, galaxy, QSO classification: Application of HDBSCAN\" and generates 5 different datasets each with different sets of colours constructed from the magnitudes listed in the CPz catalog. The 5 different datasets are defined as follows:\n",
    "- STAR: Contains the colours listed as \"*best_star_colours*\" in Table 3 of Logan & Fotopoulou (2020).\n",
    "- GAL: Contains the colours listed as \"*best_gal_colours*\" in Table 3 of Logan & Fotopoulou (2020).\n",
    "- QSO: Contains the colours listed as \"*best_qso_colours*\" in Table 3 of Logan & Fotopoulou (2020).\n",
    "- ALL: Contains the colours listed in the \"ALL\" column of Table 2 of Logan & Fotopoulou (2020).\n",
    "- SDSS: Contains all combinations of the total and 3 arcsecond aperture magnitudes as measured in the ugriz filters by SDSS that are present in the CPz catalog.\n",
    "\n",
    "Each of these datasets are saved in a separate FITS files which are stored in separate folders corresponding to the dataset type. \n",
    "\n",
    "## Imports"
   ]
  },
  {
   "cell_type": "code",
   "execution_count": 2,
   "metadata": {},
   "outputs": [
    {
     "data": {
      "text/html": [
       "<div><i>Table length=48686</i>\n",
       "<table id=\"table47941421940496\" class=\"table-striped table-bordered table-condensed\">\n",
       "<thead><tr><th>id</th><th>RAdeg</th><th>DEdeg</th><th>z</th><th>Hclass</th><th>umag</th><th>e_umag</th><th>gmag</th><th>e_gmag</th><th>rmag</th><th>e_rmag</th><th>imag</th><th>e_imag</th><th>zmag</th><th>e_zmag</th><th>Ymag</th><th>e_Ymag</th><th>Jmag</th><th>e_Jmag</th><th>Hmag</th><th>e_Hmag</th><th>Kmag</th><th>e_Kmag</th><th>W1mag</th><th>e_W1mag</th><th>W2mag</th><th>e_W2mag</th><th>u3mag</th><th>e_u3mag</th><th>g3mag</th><th>e_g3mag</th><th>r3mag</th><th>e_r3mag</th><th>i3mag</th><th>e_i3mag</th><th>Z3mag</th><th>e_Z3mag</th><th>Y3mag</th><th>e_Y3mag</th><th>J3mag</th><th>e_J3mag</th><th>H3mag</th><th>e_H3mag</th><th>K3mag</th><th>e_K3mag</th><th>Yhlr</th><th>Jhlr</th><th>Hhlr</th><th>Khlr</th><th>PCAs1c</th><th>PCAs2c</th><th>PCAs3c</th><th>PCAg1c</th><th>PCAg2c</th><th>PCAg3c</th><th>PCAq1c</th><th>PCAq2c</th><th>PCAq3c</th><th>ClasscO</th><th>CassscA</th><th>dpc</th><th>Poutc</th><th>Pstarc</th><th>Pgalc</th><th>Pqsoc</th><th>Labelc</th><th>PCAs1cHLR</th><th>PCAs2cHLR</th><th>PCAs3cHLR</th><th>PCAg1cHLR</th><th>PCAg2cHLR</th><th>PCAg3cHLR</th><th>PCAq1cHLR</th><th>PCAq2cHLR</th><th>PCAq3cHLR</th><th>ClasscHLRO</th><th>ClasscHLRA</th><th>dpcHLR</th><th>PoutcHLR</th><th>PstarcHLR</th><th>PgalcHLR</th><th>PqsocHLR</th><th>LabelcHLR</th></tr></thead>\n",
       "<thead><tr><th></th><th>deg</th><th>deg</th><th></th><th></th><th>mag</th><th>mag</th><th>mag</th><th>mag</th><th>mag</th><th>mag</th><th>mag</th><th>mag</th><th>mag</th><th>mag</th><th>mag</th><th>mag</th><th>mag</th><th>mag</th><th>mag</th><th>mag</th><th>mag</th><th>mag</th><th>mag</th><th>mag</th><th>mag</th><th>mag</th><th>mag</th><th>mag</th><th>mag</th><th>mag</th><th>mag</th><th>mag</th><th>mag</th><th>mag</th><th>mag</th><th>mag</th><th>mag</th><th>mag</th><th>mag</th><th>mag</th><th>mag</th><th>mag</th><th>mag</th><th>mag</th><th>arcsec</th><th>arcsec</th><th>arcsec</th><th>arcsec</th><th></th><th></th><th></th><th></th><th></th><th></th><th></th><th></th><th></th><th></th><th></th><th></th><th></th><th></th><th></th><th></th><th></th><th></th><th></th><th></th><th></th><th></th><th></th><th></th><th></th><th></th><th></th><th></th><th></th><th></th><th></th><th></th><th></th><th></th></tr></thead>\n",
       "<thead><tr><th>str24</th><th>float64</th><th>float64</th><th>float64</th><th>int64</th><th>float64</th><th>float64</th><th>float64</th><th>float64</th><th>float64</th><th>float64</th><th>float64</th><th>float64</th><th>float64</th><th>float64</th><th>float64</th><th>float64</th><th>float64</th><th>float64</th><th>float64</th><th>float64</th><th>float64</th><th>float64</th><th>float64</th><th>float64</th><th>float64</th><th>float64</th><th>float64</th><th>float64</th><th>float64</th><th>float64</th><th>float64</th><th>float64</th><th>float64</th><th>float64</th><th>float64</th><th>float64</th><th>float64</th><th>float64</th><th>float64</th><th>float64</th><th>float64</th><th>float64</th><th>float64</th><th>float64</th><th>float64</th><th>float64</th><th>float64</th><th>float64</th><th>float64</th><th>float64</th><th>float64</th><th>float64</th><th>float64</th><th>float64</th><th>float64</th><th>float64</th><th>float64</th><th>int64</th><th>int64</th><th>int64</th><th>float64</th><th>float64</th><th>float64</th><th>float64</th><th>int64</th><th>float64</th><th>float64</th><th>float64</th><th>float64</th><th>float64</th><th>float64</th><th>float64</th><th>float64</th><th>float64</th><th>int64</th><th>int64</th><th>int64</th><th>float64</th><th>float64</th><th>float64</th><th>float64</th><th>int64</th></tr></thead>\n",
       "<tr><td>0104-00119</td><td>34.41787</td><td>-4.72127</td><td>0.72559</td><td>1</td><td>23.4122</td><td>0.0505</td><td>22.8534</td><td>0.0211</td><td>22.2006</td><td>0.0206</td><td>21.3921</td><td>0.0125</td><td>20.9957</td><td>0.0205</td><td>20.942</td><td>0.1872</td><td>21.307</td><td>0.8141</td><td>20.6116</td><td>0.4225</td><td>20.0746</td><td>0.2015</td><td>19.2583</td><td>0.071</td><td>20.1558</td><td>0.305</td><td>23.6573</td><td>0.0413</td><td>23.1494</td><td>0.0175</td><td>22.5104</td><td>0.017</td><td>21.6177</td><td>0.0097</td><td>21.3693</td><td>0.0174</td><td>20.9169</td><td>0.1349</td><td>21.2552</td><td>0.6533</td><td>20.4513</td><td>0.3581</td><td>19.7707</td><td>0.1487</td><td>0.75589</td><td>0.64208</td><td>0.66781</td><td>0.62961</td><td>-1.15732</td><td>-2.11252</td><td>0.26002</td><td>-1.11161</td><td>-0.27282</td><td>-0.44797</td><td>-1.06384</td><td>-0.26909</td><td>-0.42575</td><td>2</td><td>2</td><td>0</td><td>0.0</td><td>0.0</td><td>1.0</td><td>0.0</td><td>2</td><td>-1.45773</td><td>-0.82213</td><td>0.18082</td><td>-1.4632</td><td>-0.16978</td><td>0.00834</td><td>0.97244</td><td>-0.09133</td><td>-0.75841</td><td>2</td><td>2</td><td>0</td><td>0.0</td><td>0.0</td><td>0.99</td><td>0.01</td><td>2</td></tr>\n",
       "<tr><td>0104-00184</td><td>34.37192</td><td>-4.59308</td><td>0.44925</td><td>1</td><td>22.018</td><td>0.0229</td><td>21.3995</td><td>0.0088</td><td>20.4452</td><td>0.0065</td><td>19.9624</td><td>0.0057</td><td>19.8319</td><td>0.0107</td><td>19.6647</td><td>0.0713</td><td>19.6658</td><td>0.2254</td><td>19.1885</td><td>0.1735</td><td>19.0394</td><td>0.1412</td><td>19.3925</td><td>0.08</td><td>19.8699</td><td>0.244</td><td>22.5703</td><td>0.0175</td><td>21.9737</td><td>0.0065</td><td>21.0491</td><td>0.005</td><td>20.5636</td><td>0.0044</td><td>20.4156</td><td>0.0074</td><td>19.931</td><td>0.0653</td><td>19.8437</td><td>0.1613</td><td>19.5163</td><td>0.1552</td><td>19.3704</td><td>0.1149</td><td>1.04066</td><td>0.92622</td><td>1.00097</td><td>1.0041</td><td>-0.19838</td><td>-0.40535</td><td>0.55346</td><td>-0.03172</td><td>-0.20366</td><td>0.13045</td><td>-0.02409</td><td>-0.20295</td><td>0.13825</td><td>2</td><td>2</td><td>0</td><td>0.0</td><td>0.0</td><td>1.0</td><td>0.0</td><td>2</td><td>-0.02468</td><td>0.10831</td><td>0.1801</td><td>-0.03298</td><td>0.12811</td><td>0.17348</td><td>0.07296</td><td>0.04991</td><td>-0.26422</td><td>2</td><td>2</td><td>0</td><td>0.0</td><td>0.0</td><td>1.0</td><td>0.0</td><td>2</td></tr>\n",
       "<tr><td>0104-00227</td><td>34.41814</td><td>-4.5809</td><td>0.699164</td><td>1</td><td>22.4891</td><td>0.0389</td><td>21.7992</td><td>0.0141</td><td>21.0215</td><td>0.012</td><td>20.0603</td><td>0.0068</td><td>19.7914</td><td>0.0115</td><td>19.5855</td><td>0.0688</td><td>19.35</td><td>0.1776</td><td>19.0366</td><td>0.1412</td><td>18.6493</td><td>0.0827</td><td>18.4685</td><td>0.047</td><td>19.0239</td><td>0.12</td><td>23.336</td><td>0.0328</td><td>22.562</td><td>0.0109</td><td>21.7882</td><td>0.0091</td><td>20.8264</td><td>0.0053</td><td>20.5733</td><td>0.0084</td><td>19.9825</td><td>0.0631</td><td>19.616</td><td>0.1312</td><td>19.251</td><td>0.122</td><td>18.9551</td><td>0.0708</td><td>0.971</td><td>0.95445</td><td>0.98895</td><td>0.94643</td><td>-0.93719</td><td>-0.72131</td><td>0.39908</td><td>-1.03261</td><td>-0.04297</td><td>-0.12212</td><td>-1.02196</td><td>-0.04914</td><td>-0.13224</td><td>2</td><td>2</td><td>0</td><td>0.0</td><td>0.0</td><td>1.0</td><td>0.0</td><td>2</td><td>-1.0812</td><td>-0.7045</td><td>0.3711</td><td>-1.13309</td><td>-0.3724</td><td>0.2693</td><td>0.95536</td><td>0.1676</td><td>-0.21571</td><td>2</td><td>2</td><td>0</td><td>0.0</td><td>0.0</td><td>1.0</td><td>0.0</td><td>2</td></tr>\n",
       "<tr><td>0104-00250</td><td>34.28431</td><td>-4.5688</td><td>0.700158</td><td>1</td><td>25.1815</td><td>0.2072</td><td>24.5456</td><td>0.0827</td><td>23.2131</td><td>0.0465</td><td>22.047</td><td>0.0197</td><td>21.5288</td><td>0.0272</td><td>21.3728</td><td>0.2525</td><td>21.0723</td><td>0.5306</td><td>20.5104</td><td>0.4139</td><td>20.1193</td><td>0.2532</td><td>19.6805</td><td>0.1</td><td>20.3989</td><td>0.407</td><td>25.5502</td><td>0.2235</td><td>24.7088</td><td>0.0728</td><td>23.4384</td><td>0.0425</td><td>22.2685</td><td>0.0179</td><td>21.7897</td><td>0.0253</td><td>21.2665</td><td>0.2362</td><td>20.9326</td><td>0.4821</td><td>20.4252</td><td>0.327</td><td>20.1081</td><td>0.2153</td><td>0.62192</td><td>0.66663</td><td>0.66207</td><td>0.61048</td><td>-0.9556</td><td>-1.09699</td><td>-0.55277</td><td>-1.43977</td><td>0.88886</td><td>-0.79804</td><td>-1.41286</td><td>0.88817</td><td>-0.79365</td><td>2</td><td>2</td><td>0</td><td>0.04</td><td>0.0</td><td>0.96</td><td>0.0</td><td>2</td><td>-1.33912</td><td>-1.57864</td><td>-0.21313</td><td>-1.58641</td><td>-1.1678</td><td>-0.39228</td><td>1.6379</td><td>0.78371</td><td>-0.66597</td><td>2</td><td>2</td><td>0</td><td>0.0</td><td>0.0</td><td>1.0</td><td>0.0</td><td>2</td></tr>\n",
       "<tr><td>0104-00318</td><td>34.41644</td><td>-4.45668</td><td>0.8911</td><td>1</td><td>23.408</td><td>0.0784</td><td>23.1214</td><td>0.0391</td><td>22.5987</td><td>0.045</td><td>21.7409</td><td>0.0255</td><td>21.3541</td><td>0.038</td><td>20.9172</td><td>0.2132</td><td>21.0162</td><td>0.6402</td><td>20.3631</td><td>0.3498</td><td>20.0327</td><td>0.2235</td><td>19.4532</td><td>0.09</td><td>20.4447</td><td>0.441</td><td>23.6476</td><td>0.0552</td><td>23.3975</td><td>0.0277</td><td>22.8581</td><td>0.0311</td><td>22.036</td><td>0.0179</td><td>21.6268</td><td>0.0255</td><td>21.0259</td><td>0.1785</td><td>21.0532</td><td>0.549</td><td>20.3611</td><td>0.3037</td><td>19.9644</td><td>0.183</td><td>-99.0</td><td>0.79629</td><td>0.77516</td><td>0.60253</td><td>-0.94072</td><td>-1.54501</td><td>0.49898</td><td>-1.01558</td><td>0.19126</td><td>-0.47487</td><td>-0.97909</td><td>0.19416</td><td>-0.4553</td><td>2</td><td>2</td><td>0</td><td>0.0</td><td>0.0</td><td>1.0</td><td>0.0</td><td>2</td><td>-99.0</td><td>-99.0</td><td>-99.0</td><td>-99.0</td><td>-99.0</td><td>-99.0</td><td>-99.0</td><td>-99.0</td><td>-99.0</td><td>--</td><td>--</td><td>--</td><td>-99.0</td><td>-99.0</td><td>-99.0</td><td>-99.0</td><td>--</td></tr>\n",
       "<tr><td>0104-00332</td><td>34.29936</td><td>-4.55849</td><td>0.881673</td><td>1</td><td>22.933</td><td>0.0402</td><td>22.5699</td><td>0.0202</td><td>22.1956</td><td>0.0247</td><td>21.2474</td><td>0.014</td><td>21.1201</td><td>0.0274</td><td>20.6719</td><td>0.1849</td><td>20.455</td><td>0.525</td><td>20.758</td><td>0.526</td><td>20.043</td><td>0.2879</td><td>19.7255</td><td>0.105</td><td>20.2979</td><td>0.385</td><td>23.3593</td><td>0.0323</td><td>23.049</td><td>0.0164</td><td>22.6399</td><td>0.019</td><td>21.6584</td><td>0.0105</td><td>21.426</td><td>0.0179</td><td>20.6922</td><td>0.1636</td><td>20.616</td><td>0.3585</td><td>20.7357</td><td>0.4616</td><td>19.9892</td><td>0.1783</td><td>0.85328</td><td>0.725</td><td>0.89078</td><td>0.62758</td><td>-0.41181</td><td>-1.96153</td><td>0.23514</td><td>-0.74379</td><td>-0.13601</td><td>-0.97529</td><td>-0.72423</td><td>-0.13372</td><td>-0.9891</td><td>2</td><td>2</td><td>0</td><td>0.03</td><td>0.0</td><td>0.95</td><td>0.02</td><td>2</td><td>-1.01724</td><td>-0.82098</td><td>-0.37191</td><td>-1.02814</td><td>-0.37939</td><td>-0.48628</td><td>0.84192</td><td>-0.26775</td><td>-0.42765</td><td>2</td><td>2</td><td>0</td><td>0.0</td><td>0.0</td><td>0.91</td><td>0.09</td><td>2</td></tr>\n",
       "<tr><td>0104-00341</td><td>34.48687</td><td>-4.46736</td><td>0.696882</td><td>1</td><td>25.765</td><td>0.366</td><td>24.6372</td><td>0.0854</td><td>23.0942</td><td>0.0422</td><td>21.8836</td><td>0.018</td><td>21.4975</td><td>0.0255</td><td>20.7233</td><td>0.1647</td><td>20.6791</td><td>0.5839</td><td>20.0319</td><td>0.2901</td><td>19.9739</td><td>0.2192</td><td>19.4583</td><td>0.086</td><td>19.6408</td><td>0.194</td><td>25.9623</td><td>0.3771</td><td>24.7553</td><td>0.0807</td><td>23.2543</td><td>0.0405</td><td>22.0203</td><td>0.0169</td><td>21.6621</td><td>0.0241</td><td>20.8264</td><td>0.1277</td><td>20.5578</td><td>0.3488</td><td>20.0443</td><td>0.2279</td><td>19.8419</td><td>0.1856</td><td>-99.0</td><td>0.64148</td><td>0.65005</td><td>0.60408</td><td>-0.77551</td><td>-0.90651</td><td>-0.36548</td><td>-1.68566</td><td>0.67689</td><td>-1.2136</td><td>-1.69876</td><td>0.66487</td><td>-1.27516</td><td>2</td><td>2</td><td>0</td><td>0.0</td><td>0.0</td><td>1.0</td><td>0.0</td><td>2</td><td>-99.0</td><td>-99.0</td><td>-99.0</td><td>-99.0</td><td>-99.0</td><td>-99.0</td><td>-99.0</td><td>-99.0</td><td>-99.0</td><td>--</td><td>--</td><td>--</td><td>-99.0</td><td>-99.0</td><td>-99.0</td><td>-99.0</td><td>--</td></tr>\n",
       "<tr><td>0104-00344</td><td>34.55656</td><td>-4.41331</td><td>0.583802</td><td>1</td><td>24.1408</td><td>0.1337</td><td>23.4812</td><td>0.0477</td><td>22.4308</td><td>0.0262</td><td>21.8121</td><td>0.0238</td><td>21.2051</td><td>0.0314</td><td>21.1025</td><td>0.1868</td><td>21.2958</td><td>0.8372</td><td>20.4332</td><td>0.2802</td><td>20.0682</td><td>0.1514</td><td>19.8322</td><td>0.119</td><td>20.4818</td><td>0.434</td><td>24.2714</td><td>0.0996</td><td>23.6495</td><td>0.036</td><td>22.6888</td><td>0.0209</td><td>22.018</td><td>0.0185</td><td>21.5583</td><td>0.0277</td><td>20.9636</td><td>0.1719</td><td>21.1572</td><td>0.5935</td><td>20.2633</td><td>0.2817</td><td>19.8856</td><td>0.1667</td><td>-99.0</td><td>0.61444</td><td>0.6567</td><td>0.54677</td><td>-0.87459</td><td>-1.41045</td><td>-0.33783</td><td>-0.83957</td><td>0.15256</td><td>-0.50151</td><td>-0.8067</td><td>0.156</td><td>-0.48578</td><td>2</td><td>2</td><td>0</td><td>0.0</td><td>0.0</td><td>1.0</td><td>0.0</td><td>2</td><td>-99.0</td><td>-99.0</td><td>-99.0</td><td>-99.0</td><td>-99.0</td><td>-99.0</td><td>-99.0</td><td>-99.0</td><td>-99.0</td><td>--</td><td>--</td><td>--</td><td>-99.0</td><td>-99.0</td><td>-99.0</td><td>-99.0</td><td>--</td></tr>\n",
       "<tr><td>0104-00382</td><td>34.59877</td><td>-4.77366</td><td>0.878214</td><td>1</td><td>24.1627</td><td>0.1384</td><td>23.3826</td><td>0.0477</td><td>22.2485</td><td>0.0309</td><td>21.0215</td><td>0.0123</td><td>20.2851</td><td>0.0157</td><td>20.1854</td><td>0.1155</td><td>19.7425</td><td>0.2642</td><td>19.4599</td><td>0.1936</td><td>18.8423</td><td>0.1003</td><td>18.4743</td><td>0.046</td><td>18.8308</td><td>0.097</td><td>25.0516</td><td>0.1449</td><td>24.1337</td><td>0.0429</td><td>22.8717</td><td>0.0249</td><td>21.606</td><td>0.0098</td><td>20.9743</td><td>0.0131</td><td>20.3438</td><td>0.095</td><td>20.0334</td><td>0.1964</td><td>19.5266</td><td>0.1527</td><td>19.0264</td><td>0.0773</td><td>0.85328</td><td>0.8615</td><td>0.79449</td><td>0.79162</td><td>-1.4647</td><td>-0.93995</td><td>-0.27206</td><td>-1.9234</td><td>0.39116</td><td>-0.59397</td><td>-1.92114</td><td>0.37759</td><td>-0.63421</td><td>2</td><td>2</td><td>0</td><td>0.0</td><td>0.0</td><td>1.0</td><td>0.0</td><td>2</td><td>-1.92322</td><td>-1.12588</td><td>-0.08182</td><td>-2.03128</td><td>-0.67844</td><td>-0.19294</td><td>2.04412</td><td>0.3123</td><td>0.00664</td><td>2</td><td>2</td><td>0</td><td>0.0</td><td>0.0</td><td>1.0</td><td>0.0</td><td>2</td></tr>\n",
       "<tr><td>...</td><td>...</td><td>...</td><td>...</td><td>...</td><td>...</td><td>...</td><td>...</td><td>...</td><td>...</td><td>...</td><td>...</td><td>...</td><td>...</td><td>...</td><td>...</td><td>...</td><td>...</td><td>...</td><td>...</td><td>...</td><td>...</td><td>...</td><td>...</td><td>...</td><td>...</td><td>...</td><td>...</td><td>...</td><td>...</td><td>...</td><td>...</td><td>...</td><td>...</td><td>...</td><td>...</td><td>...</td><td>...</td><td>...</td><td>...</td><td>...</td><td>...</td><td>...</td><td>...</td><td>...</td><td>...</td><td>...</td><td>...</td><td>...</td><td>...</td><td>...</td><td>...</td><td>...</td><td>...</td><td>...</td><td>...</td><td>...</td><td>...</td><td>...</td><td>...</td><td>...</td><td>...</td><td>...</td><td>...</td><td>...</td><td>...</td><td>...</td><td>...</td><td>...</td><td>...</td><td>...</td><td>...</td><td>...</td><td>...</td><td>...</td><td>...</td><td>...</td><td>...</td><td>...</td><td>...</td><td>...</td><td>...</td><td>...</td></tr>\n",
       "<tr><td>VVDS-J022811.22-044859.6</td><td>37.04675</td><td>-4.81656</td><td>0.2293</td><td>1</td><td>21.1754</td><td>0.0097</td><td>20.3077</td><td>0.003</td><td>19.704</td><td>0.0039</td><td>19.3693</td><td>0.0046</td><td>19.1593</td><td>0.0075</td><td>19.1684</td><td>0.0566</td><td>18.9152</td><td>0.0387</td><td>18.7363</td><td>0.0507</td><td>18.5195</td><td>0.0588</td><td>19.0669</td><td>0.06</td><td>19.4464</td><td>0.167</td><td>21.8298</td><td>0.0083</td><td>20.8907</td><td>0.0024</td><td>20.3184</td><td>0.0031</td><td>19.9546</td><td>0.0037</td><td>19.706</td><td>0.0052</td><td>19.3185</td><td>0.0479</td><td>19.0429</td><td>0.0323</td><td>18.8146</td><td>0.0422</td><td>18.6076</td><td>0.0472</td><td>-99.0</td><td>-99.0</td><td>-99.0</td><td>-99.0</td><td>0.1045</td><td>-0.66053</td><td>-0.12138</td><td>0.38818</td><td>-0.24258</td><td>-0.23452</td><td>0.40907</td><td>-0.23319</td><td>-0.21229</td><td>2</td><td>2</td><td>0</td><td>0.0</td><td>0.0</td><td>1.0</td><td>0.0</td><td>2</td><td>-99.0</td><td>-99.0</td><td>-99.0</td><td>-99.0</td><td>-99.0</td><td>-99.0</td><td>-99.0</td><td>-99.0</td><td>-99.0</td><td>--</td><td>--</td><td>--</td><td>-99.0</td><td>-99.0</td><td>-99.0</td><td>-99.0</td><td>--</td></tr>\n",
       "<tr><td>VVDS-J022811.75-044528.9</td><td>37.049</td><td>-4.75804</td><td>0.9607</td><td>1</td><td>25.94</td><td>0.4195</td><td>24.5468</td><td>0.08</td><td>22.7289</td><td>0.035</td><td>21.5357</td><td>0.019</td><td>20.6395</td><td>0.017</td><td>20.3358</td><td>0.1115</td><td>19.8645</td><td>0.0736</td><td>19.5936</td><td>0.1386</td><td>19.1045</td><td>0.0857</td><td>18.8119</td><td>0.05</td><td>19.1143</td><td>0.119</td><td>26.1381</td><td>0.3468</td><td>24.7177</td><td>0.0641</td><td>22.9435</td><td>0.0286</td><td>21.7846</td><td>0.0162</td><td>20.8887</td><td>0.0142</td><td>20.3083</td><td>0.0929</td><td>19.8573</td><td>0.0629</td><td>19.5387</td><td>0.1254</td><td>19.1111</td><td>0.0729</td><td>-99.0</td><td>-99.0</td><td>-99.0</td><td>-99.0</td><td>-1.0104</td><td>-0.85108</td><td>-1.04959</td><td>-1.84601</td><td>1.07794</td><td>-1.16624</td><td>-1.85222</td><td>1.06689</td><td>-1.2143</td><td>2</td><td>2</td><td>0</td><td>0.0</td><td>0.0</td><td>1.0</td><td>0.0</td><td>2</td><td>-99.0</td><td>-99.0</td><td>-99.0</td><td>-99.0</td><td>-99.0</td><td>-99.0</td><td>-99.0</td><td>-99.0</td><td>-99.0</td><td>--</td><td>--</td><td>--</td><td>-99.0</td><td>-99.0</td><td>-99.0</td><td>-99.0</td><td>--</td></tr>\n",
       "<tr><td>VVDS-J022812.33-043056.9</td><td>37.05139</td><td>-4.51583</td><td>0.5265</td><td>1</td><td>21.629</td><td>0.0204</td><td>21.0154</td><td>0.0071</td><td>20.0283</td><td>0.005</td><td>19.5763</td><td>0.0048</td><td>19.3782</td><td>0.0088</td><td>19.1395</td><td>0.0423</td><td>19.0666</td><td>0.0442</td><td>18.8091</td><td>0.0656</td><td>18.5758</td><td>0.0707</td><td>18.6191</td><td>0.046</td><td>18.9281</td><td>0.099</td><td>22.1769</td><td>0.0155</td><td>21.5251</td><td>0.0051</td><td>20.5952</td><td>0.004</td><td>20.1601</td><td>0.0036</td><td>19.8921</td><td>0.006</td><td>19.3766</td><td>0.039</td><td>19.316</td><td>0.0383</td><td>18.9984</td><td>0.0559</td><td>18.7698</td><td>0.0586</td><td>-99.0</td><td>-99.0</td><td>-99.0</td><td>-99.0</td><td>-0.28223</td><td>-0.83697</td><td>0.67044</td><td>-0.33116</td><td>-0.5723</td><td>-0.28461</td><td>-0.31971</td><td>-0.57239</td><td>-0.29441</td><td>2</td><td>2</td><td>0</td><td>0.0</td><td>0.0</td><td>1.0</td><td>0.0</td><td>2</td><td>-99.0</td><td>-99.0</td><td>-99.0</td><td>-99.0</td><td>-99.0</td><td>-99.0</td><td>-99.0</td><td>-99.0</td><td>-99.0</td><td>--</td><td>--</td><td>--</td><td>-99.0</td><td>-99.0</td><td>-99.0</td><td>-99.0</td><td>--</td></tr>\n",
       "<tr><td>VVDS-J022812.59-042052.6</td><td>37.05249</td><td>-4.34795</td><td>0.8692</td><td>1</td><td>23.4566</td><td>0.1015</td><td>22.796</td><td>0.0362</td><td>21.7048</td><td>0.0226</td><td>20.7168</td><td>0.0136</td><td>19.9944</td><td>0.0163</td><td>19.7415</td><td>0.0872</td><td>19.4259</td><td>0.0742</td><td>19.0466</td><td>0.0718</td><td>18.5542</td><td>0.0575</td><td>18.2883</td><td>0.042</td><td>18.6942</td><td>0.089</td><td>24.2922</td><td>0.0899</td><td>23.561</td><td>0.0297</td><td>22.4009</td><td>0.0173</td><td>21.3278</td><td>0.0096</td><td>20.6553</td><td>0.0119</td><td>20.0033</td><td>0.0738</td><td>19.4438</td><td>0.062</td><td>19.1601</td><td>0.0599</td><td>18.6595</td><td>0.0486</td><td>-99.0</td><td>-99.0</td><td>-99.0</td><td>-99.0</td><td>-1.22457</td><td>-0.97281</td><td>-0.45024</td><td>-1.55164</td><td>0.33458</td><td>-0.67895</td><td>-1.54563</td><td>0.32568</td><td>-0.70983</td><td>2</td><td>2</td><td>0</td><td>0.0</td><td>0.0</td><td>1.0</td><td>0.0</td><td>2</td><td>-99.0</td><td>-99.0</td><td>-99.0</td><td>-99.0</td><td>-99.0</td><td>-99.0</td><td>-99.0</td><td>-99.0</td><td>-99.0</td><td>--</td><td>--</td><td>--</td><td>-99.0</td><td>-99.0</td><td>-99.0</td><td>-99.0</td><td>--</td></tr>\n",
       "<tr><td>VVDS-J022812.73-042246.9</td><td>37.05307</td><td>-4.37969</td><td>0.0</td><td>0</td><td>24.5355</td><td>0.1414</td><td>23.0626</td><td>0.0243</td><td>21.7945</td><td>0.0131</td><td>20.2049</td><td>0.0047</td><td>19.5326</td><td>0.0059</td><td>19.1868</td><td>0.0344</td><td>19.0012</td><td>0.0296</td><td>19.1451</td><td>0.0602</td><td>19.2433</td><td>0.0913</td><td>19.6223</td><td>0.092</td><td>19.8152</td><td>0.228</td><td>24.7445</td><td>0.1346</td><td>23.1739</td><td>0.0209</td><td>21.9756</td><td>0.0119</td><td>20.3631</td><td>0.0042</td><td>19.6935</td><td>0.0052</td><td>19.0639</td><td>0.0316</td><td>18.855</td><td>0.0277</td><td>18.9268</td><td>0.0744</td><td>19.0495</td><td>0.0823</td><td>-99.0</td><td>-99.0</td><td>-99.0</td><td>-99.0</td><td>1.16256</td><td>-0.08801</td><td>-1.53096</td><td>-0.31568</td><td>2.39132</td><td>-1.95711</td><td>-0.37279</td><td>2.38732</td><td>-2.02903</td><td>1</td><td>1</td><td>0</td><td>0.0</td><td>1.0</td><td>0.0</td><td>0.0</td><td>1</td><td>-99.0</td><td>-99.0</td><td>-99.0</td><td>-99.0</td><td>-99.0</td><td>-99.0</td><td>-99.0</td><td>-99.0</td><td>-99.0</td><td>--</td><td>--</td><td>--</td><td>-99.0</td><td>-99.0</td><td>-99.0</td><td>-99.0</td><td>--</td></tr>\n",
       "<tr><td>VVDS-J022813.29-043512.3</td><td>37.05539</td><td>-4.58676</td><td>0.0</td><td>0</td><td>25.1162</td><td>0.2643</td><td>22.7306</td><td>0.0185</td><td>21.3518</td><td>0.0093</td><td>20.1394</td><td>0.0045</td><td>19.5989</td><td>0.0062</td><td>19.4128</td><td>0.0419</td><td>19.2302</td><td>0.0364</td><td>19.1261</td><td>0.0523</td><td>19.4178</td><td>0.0724</td><td>19.9731</td><td>0.124</td><td>20.4475</td><td>0.393</td><td>25.354</td><td>0.2566</td><td>22.8335</td><td>0.0158</td><td>21.5021</td><td>0.0083</td><td>20.302</td><td>0.0041</td><td>19.7603</td><td>0.0055</td><td>19.2407</td><td>0.0389</td><td>19.0565</td><td>0.0366</td><td>18.9646</td><td>0.0493</td><td>19.2067</td><td>0.0873</td><td>-99.0</td><td>-99.0</td><td>-99.0</td><td>-99.0</td><td>1.28248</td><td>0.33343</td><td>-1.84347</td><td>0.28358</td><td>2.34956</td><td>-1.28115</td><td>0.24814</td><td>2.35368</td><td>-1.30121</td><td>1</td><td>1</td><td>0</td><td>0.0</td><td>1.0</td><td>0.0</td><td>0.0</td><td>1</td><td>-99.0</td><td>-99.0</td><td>-99.0</td><td>-99.0</td><td>-99.0</td><td>-99.0</td><td>-99.0</td><td>-99.0</td><td>-99.0</td><td>--</td><td>--</td><td>--</td><td>-99.0</td><td>-99.0</td><td>-99.0</td><td>-99.0</td><td>--</td></tr>\n",
       "<tr><td>VVDS-J022815.06-044901.1</td><td>37.06275</td><td>-4.81697</td><td>0.9129</td><td>1</td><td>24.0478</td><td>0.0633</td><td>23.49</td><td>0.0256</td><td>22.8405</td><td>0.0323</td><td>21.9777</td><td>0.0238</td><td>21.5324</td><td>0.0319</td><td>21.3531</td><td>0.1799</td><td>21.0272</td><td>0.1891</td><td>20.7014</td><td>0.229</td><td>20.2339</td><td>0.1668</td><td>19.9098</td><td>0.118</td><td>20.7463</td><td>0.514</td><td>24.1429</td><td>0.0575</td><td>23.5878</td><td>0.023</td><td>22.9874</td><td>0.0296</td><td>22.1498</td><td>0.0223</td><td>21.6806</td><td>0.0288</td><td>21.1882</td><td>0.1747</td><td>20.8191</td><td>0.1851</td><td>20.5683</td><td>0.1957</td><td>20.0834</td><td>0.1707</td><td>-99.0</td><td>-99.0</td><td>-99.0</td><td>-99.0</td><td>-0.60219</td><td>-1.67368</td><td>-0.38457</td><td>-0.80107</td><td>0.47026</td><td>-0.97438</td><td>-0.75324</td><td>0.48069</td><td>-0.94416</td><td>2</td><td>2</td><td>0</td><td>0.01</td><td>0.0</td><td>0.99</td><td>0.0</td><td>2</td><td>-99.0</td><td>-99.0</td><td>-99.0</td><td>-99.0</td><td>-99.0</td><td>-99.0</td><td>-99.0</td><td>-99.0</td><td>-99.0</td><td>--</td><td>--</td><td>--</td><td>-99.0</td><td>-99.0</td><td>-99.0</td><td>-99.0</td><td>--</td></tr>\n",
       "<tr><td>VVDS-J022815.77-042058.4</td><td>37.06571</td><td>-4.34957</td><td>0.6035</td><td>1</td><td>26.3059</td><td>1.0862</td><td>23.3419</td><td>0.0466</td><td>21.7756</td><td>0.019</td><td>20.7096</td><td>0.0107</td><td>20.4277</td><td>0.0189</td><td>20.0857</td><td>0.1001</td><td>19.8219</td><td>0.0887</td><td>19.3417</td><td>0.0881</td><td>19.094</td><td>0.1391</td><td>19.1843</td><td>0.067</td><td>20.1042</td><td>0.292</td><td>25.5387</td><td>0.2799</td><td>23.7049</td><td>0.0337</td><td>22.1913</td><td>0.0144</td><td>21.1356</td><td>0.0082</td><td>20.8046</td><td>0.0136</td><td>20.1781</td><td>0.0847</td><td>19.8733</td><td>0.0706</td><td>19.5239</td><td>0.0733</td><td>19.2773</td><td>0.1028</td><td>-99.0</td><td>-99.0</td><td>-99.0</td><td>-99.0</td><td>-0.60369</td><td>-0.13986</td><td>-0.94915</td><td>-0.7961</td><td>1.37319</td><td>0.04086</td><td>-0.79329</td><td>1.36971</td><td>0.05774</td><td>2</td><td>2</td><td>0</td><td>0.0</td><td>0.0</td><td>1.0</td><td>0.0</td><td>2</td><td>-99.0</td><td>-99.0</td><td>-99.0</td><td>-99.0</td><td>-99.0</td><td>-99.0</td><td>-99.0</td><td>-99.0</td><td>-99.0</td><td>--</td><td>--</td><td>--</td><td>-99.0</td><td>-99.0</td><td>-99.0</td><td>-99.0</td><td>--</td></tr>\n",
       "<tr><td>VVDS-J022815.80-041209.9</td><td>37.06587</td><td>-4.20277</td><td>0.0</td><td>0</td><td>19.5471</td><td>0.0029</td><td>18.3026</td><td>0.0007</td><td>17.7831</td><td>0.0008</td><td>17.5939</td><td>0.0009</td><td>17.5317</td><td>0.0014</td><td>17.4397</td><td>0.0134</td><td>17.4552</td><td>0.0122</td><td>17.5827</td><td>0.0211</td><td>18.0244</td><td>0.0348</td><td>18.8516</td><td>0.053</td><td>19.5203</td><td>0.172</td><td>19.7287</td><td>0.0027</td><td>18.4568</td><td>0.0006</td><td>17.9511</td><td>0.0008</td><td>17.7855</td><td>0.0008</td><td>17.7113</td><td>0.0012</td><td>17.385</td><td>0.012</td><td>17.4154</td><td>0.01</td><td>17.4881</td><td>0.0183</td><td>17.8767</td><td>0.0303</td><td>-99.0</td><td>-99.0</td><td>-99.0</td><td>-99.0</td><td>2.22217</td><td>-0.13394</td><td>-0.22033</td><td>2.01448</td><td>0.7138</td><td>-0.81627</td><td>2.02114</td><td>0.73909</td><td>-0.77289</td><td>1</td><td>1</td><td>0</td><td>0.0</td><td>1.0</td><td>0.0</td><td>0.0</td><td>1</td><td>-99.0</td><td>-99.0</td><td>-99.0</td><td>-99.0</td><td>-99.0</td><td>-99.0</td><td>-99.0</td><td>-99.0</td><td>-99.0</td><td>--</td><td>--</td><td>--</td><td>-99.0</td><td>-99.0</td><td>-99.0</td><td>-99.0</td><td>--</td></tr>\n",
       "<tr><td>VVDS-J022816.29-042115.1</td><td>37.06788</td><td>-4.35421</td><td>0.868</td><td>1</td><td>25.1585</td><td>0.3386</td><td>24.6749</td><td>0.1419</td><td>23.4472</td><td>0.0769</td><td>22.2078</td><td>0.0372</td><td>21.5734</td><td>0.0487</td><td>21.0735</td><td>0.202</td><td>20.5746</td><td>0.1217</td><td>19.9691</td><td>0.1264</td><td>19.6373</td><td>0.1429</td><td>19.2073</td><td>0.071</td><td>20.3552</td><td>0.385</td><td>25.7206</td><td>0.3306</td><td>25.1881</td><td>0.1306</td><td>23.7786</td><td>0.0587</td><td>22.5172</td><td>0.0278</td><td>21.8678</td><td>0.0351</td><td>21.1729</td><td>0.1856</td><td>20.5053</td><td>0.1108</td><td>19.9911</td><td>0.1119</td><td>19.5813</td><td>0.1099</td><td>-99.0</td><td>-99.0</td><td>-99.0</td><td>-99.0</td><td>-1.32121</td><td>-0.82723</td><td>-1.04734</td><td>-1.61291</td><td>1.60791</td><td>-0.52141</td><td>-1.58733</td><td>1.60591</td><td>-0.49992</td><td>2</td><td>2</td><td>0</td><td>0.03</td><td>0.0</td><td>0.97</td><td>0.0</td><td>2</td><td>-99.0</td><td>-99.0</td><td>-99.0</td><td>-99.0</td><td>-99.0</td><td>-99.0</td><td>-99.0</td><td>-99.0</td><td>-99.0</td><td>--</td><td>--</td><td>--</td><td>-99.0</td><td>-99.0</td><td>-99.0</td><td>-99.0</td><td>--</td></tr>\n",
       "</table></div>"
      ],
      "text/plain": [
       "<Table length=48686>\n",
       "           id             RAdeg    DEdeg   ... PgalcHLR PqsocHLR LabelcHLR\n",
       "                           deg      deg    ...                            \n",
       "         str24           float64  float64  ... float64  float64    int64  \n",
       "------------------------ -------- -------- ... -------- -------- ---------\n",
       "              0104-00119 34.41787 -4.72127 ...     0.99     0.01         2\n",
       "              0104-00184 34.37192 -4.59308 ...      1.0      0.0         2\n",
       "              0104-00227 34.41814  -4.5809 ...      1.0      0.0         2\n",
       "              0104-00250 34.28431  -4.5688 ...      1.0      0.0         2\n",
       "              0104-00318 34.41644 -4.45668 ...    -99.0    -99.0        --\n",
       "              0104-00332 34.29936 -4.55849 ...     0.91     0.09         2\n",
       "              0104-00341 34.48687 -4.46736 ...    -99.0    -99.0        --\n",
       "              0104-00344 34.55656 -4.41331 ...    -99.0    -99.0        --\n",
       "              0104-00382 34.59877 -4.77366 ...      1.0      0.0         2\n",
       "                     ...      ...      ... ...      ...      ...       ...\n",
       "VVDS-J022811.22-044859.6 37.04675 -4.81656 ...    -99.0    -99.0        --\n",
       "VVDS-J022811.75-044528.9   37.049 -4.75804 ...    -99.0    -99.0        --\n",
       "VVDS-J022812.33-043056.9 37.05139 -4.51583 ...    -99.0    -99.0        --\n",
       "VVDS-J022812.59-042052.6 37.05249 -4.34795 ...    -99.0    -99.0        --\n",
       "VVDS-J022812.73-042246.9 37.05307 -4.37969 ...    -99.0    -99.0        --\n",
       "VVDS-J022813.29-043512.3 37.05539 -4.58676 ...    -99.0    -99.0        --\n",
       "VVDS-J022815.06-044901.1 37.06275 -4.81697 ...    -99.0    -99.0        --\n",
       "VVDS-J022815.77-042058.4 37.06571 -4.34957 ...    -99.0    -99.0        --\n",
       "VVDS-J022815.80-041209.9 37.06587 -4.20277 ...    -99.0    -99.0        --\n",
       "VVDS-J022816.29-042115.1 37.06788 -4.35421 ...    -99.0    -99.0        --"
      ]
     },
     "metadata": {},
     "output_type": "display_data"
    }
   ],
   "source": [
    "import os\n",
    "from astropy.table import Table\n",
    "\n",
    "import itertools as iter\n",
    "\n",
    "from SHARC.utils import insertColors, writeDataset\n",
    "\n",
    "total_magnitudes = [\"umag\", \"gmag\", \"rmag\", \"imag\", \"zmag\",\n",
    "                    \"Ymag\", \"Jmag\", \"Hmag\", \"Kmag\",\n",
    "                    \"W1mag\", \"W2mag\"]\n",
    "aperture_magnitudes = [\"u3mag\", \"g3mag\", \"r3mag\", \"i3mag\", \"Z3mag\",\n",
    "                       \"Y3mag\", \"J3mag\", \"H3mag\", \"K3mag\"]\n",
    "\n",
    "# colors used for different classifiers in HDBSCAN paper\n",
    "colors_STAR = [\"Kmag-Y3mag\", \"Kmag-J3mag\", \"Kmag-Z3mag\", \"Kmag-H3mag\", \"J3mag-K3mag\",\n",
    "               \"Y3mag-K3mag\", \"J3mag-W1mag\", \"Y3mag-W1mag\", \"Jmag-Kmag\", \"H3mag-K3mag\",\n",
    "               \"H3mag-W1mag\", \"Ymag-Kmag\", \"Hmag-Y3mag\", \"Y3mag-W2mag\", \"J3mag-W2mag\",\n",
    "               \"imag-g3mag\", \"Z3mag-W1mag\", \"Z3mag-K3mag\", \"zmag-u3mag\", \"Hmag-J3mag\"] # from Table 3 (italics, i.e. colours only)\n",
    "colors_GAL = [\"gmag-Jmag\", \"Ymag-W1mag\", \"J3mag-W1mag\", \"Y3mag-W1mag\", \"J3mag-W2mag\",\n",
    "              \"H3mag-W2mag\", \"Y3mag-W2mag\", \"Z3mag-W2mag\", \"Kmag-J3mag\", \"H3mag-W1mag\",\n",
    "              \"Z3mag-W1mag\", \"Kmag-H3mag\", \"Hmag-W2mag\", \"Kmag-W2mag\", \"W1mag-W2mag\",\n",
    "              \"imag-W2mag\", \"gmag-Kmag\", \"gmag-Hmag\", \"imag-W1mag\", \"rmag-Hmag\",\n",
    "              \"g3mag-i3mag\", \"rmag-Z3mag\", \"rmag-imag\", \"r3mag-i3mag\", \"K3mag-W2mag\",\n",
    "              \"rmag-zmag\", \"rmag-Y3mag\", \"Hmag-J3mag\", \"imag-u3mag\"] # from Table 3 (italics, i.e. colours only)\n",
    "colors_QSO = [\"J3mag-W1mag\", \"Y3mag-W1mag\", \"J3mag-W2mag\", \"H3mag-W2mag\", \"Y3mag-W2mag\",\n",
    "              \"Z3mag-W2mag\", \"Kmag-J3mag\", \"H3mag-W1mag\", \"Z3mag-W1mag\", \"Kmag-H3mag\",\n",
    "              \"Hmag-W2mag\", \"Kmag-W2mag\", \"W1mag-W2mag\", \"gmag-Jmag\", \"imag-W2mag\",\n",
    "              \"gmag-Kmag\", \"gmag-Hmag\", \"imag-W1mag\", \"rmag-Hmag\", \"g3mag-i3mag\",\n",
    "              \"rmag-Z3mag\", \"rmag-imag\", \"r3mag-i3mag\", \"K3mag-W2mag\", \"rmag-zmag\",\n",
    "              \"rmag-Y3mag\", \"Hmag-J3mag\", \"imag-u3mag\"] # from Table 3 (italics, i.e. colours only)\n",
    "colors_ALL = [\"Kmag-Y3mag\", \"Kmag-J3mag\", \"Kmag-H3mag\", \"J3mag-W1mag\", \"J3mag-K3mag\",\n",
    "              \"Y3mag-W1mag\", \"H3mag-W1mag\", \"H3mag-K3mag\", \"Jmag-Kmag\", \"Y3mag-K3mag\"] # from Table 2 (\"ALL\")\n",
    "colors_SDSS = [m1 + \"-\" + m2 for m1, m2 in iter.combinations(total_magnitudes[:5] + aperture_magnitudes[:5], 2)]\n",
    "\n",
    "# path to storage\n",
    "data_path = \"/Users/users/lourens/RDMP/master_research/data/HDBSCAN2\"\n",
    "\n",
    "# import CPz dataset\n",
    "table = Table.read(os.path.join(data_path, \"cpz.dat\"), readme=os.path.join(data_path, \"ReadMe\"), format=\"ascii.cds\")\n",
    "display(table)"
   ]
  },
  {
   "attachments": {},
   "cell_type": "markdown",
   "metadata": {},
   "source": [
    "## Write datasets"
   ]
  },
  {
   "cell_type": "code",
   "execution_count": 3,
   "metadata": {},
   "outputs": [
    {
     "name": "stdout",
     "output_type": "stream",
     "text": [
      "Writing data to /Users/users/lourens/RDMP/master_research/data/HDBSCAN2/STAR/CPz_STAR_dataset.fits.gz ...\n",
      "Write successful!\n",
      "Writing data to /Users/users/lourens/RDMP/master_research/data/HDBSCAN2/GAL/CPz_GAL_dataset.fits.gz ...\n",
      "Write successful!\n",
      "Writing data to /Users/users/lourens/RDMP/master_research/data/HDBSCAN2/QSO/CPz_QSO_dataset.fits.gz ...\n",
      "Write successful!\n",
      "Writing data to /Users/users/lourens/RDMP/master_research/data/HDBSCAN2/ALL/CPz_ALL_dataset.fits.gz ...\n",
      "Write successful!\n",
      "Writing data to /Users/users/lourens/RDMP/master_research/data/HDBSCAN2/SDSS/CPz_SDSS_dataset.fits.gz ...\n",
      "Write successful!\n"
     ]
    }
   ],
   "source": [
    "datasets = [\"STAR\", \"GAL\", \"QSO\", \"ALL\", \"SDSS\"]\n",
    "for dataset in datasets:\n",
    "    table_tmp = table.copy() # make a hardcopy of the table\n",
    "    insertColors(table_tmp, eval(f\"colors_{dataset}\"))\n",
    "    writeDataset(table_tmp, filename=os.path.join(data_path, dataset, f\"CPz_{dataset}_dataset.fits.gz\"), verbose=True, overwrite=True)\n",
    "    del table_tmp"
   ]
  },
  {
   "cell_type": "code",
   "execution_count": null,
   "metadata": {},
   "outputs": [],
   "source": []
  }
 ],
 "metadata": {
  "kernelspec": {
   "display_name": "Anaconda3 - 4.2.0",
   "language": "python",
   "name": "python3"
  },
  "language_info": {
   "name": "python",
   "version": "3.8.13"
  },
  "orig_nbformat": 4,
  "vscode": {
   "interpreter": {
    "hash": "29eab91c81ac3e78697c45de7ae049d7df333c24e8339507cd44bb1312a21709"
   }
  }
 },
 "nbformat": 4,
 "nbformat_minor": 2
}
